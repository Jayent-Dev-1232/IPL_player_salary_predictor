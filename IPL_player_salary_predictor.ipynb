{
 "cells": [
  {
   "cell_type": "markdown",
   "id": "896474ee-1459-4d5b-9e6b-0cc4e91c99c2",
   "metadata": {},
   "source": [
    "## ***IPL AUCTION SALARY PREDICTOR***"
   ]
  },
  {
   "cell_type": "markdown",
   "id": "c949ac16-8293-482f-93e5-fbef5befc83b",
   "metadata": {},
   "source": [
    "#### ***Importing necessary libraries***"
   ]
  },
  {
   "cell_type": "code",
   "execution_count": 1,
   "id": "ff01de44-c6d8-4478-8400-0e921d949e54",
   "metadata": {},
   "outputs": [],
   "source": [
    "import pandas as pd\n",
    "import numpy as np\n",
    "import re\n",
    "import os\n",
    "from sklearn.ensemble import RandomForestRegressor\n",
    "from sklearn.model_selection import train_test_split\n",
    "from sklearn.metrics import mean_absolute_error, r2_score"
   ]
  },
  {
   "cell_type": "markdown",
   "id": "22412154-0440-4d74-8a2d-010e7ae9288b",
   "metadata": {},
   "source": [
    "#### ***Making a helper function to Parse Salary***"
   ]
  },
  {
   "cell_type": "code",
   "execution_count": 2,
   "id": "51b8a79d-f2ba-42fe-883b-6d032ce451c7",
   "metadata": {},
   "outputs": [],
   "source": [
    "def parse_price(price_str):\n",
    "    try:\n",
    "        if isinstance(price_str, str):\n",
    "            price_str = price_str.lower().strip()\n",
    "            if 'crore' in price_str:\n",
    "                return float(price_str.replace(\" crore\", \"\").replace('₹', '').strip())\n",
    "            elif re.match(r'^[\\d,]+$', price_str):\n",
    "                return round(int(price_str.replace(\",\",\"\")) / 1e7, 2)\n",
    "        elif isinstance(price_str, (int, float)):\n",
    "            return round(price_str / 1e7, 2)\n",
    "    except:\n",
    "        return np.nan"
   ]
  },
  {
   "cell_type": "markdown",
   "id": "2cfc5375-a984-4bcd-938a-dca578e76b75",
   "metadata": {},
   "source": [
    "#### ***Loading Auction Data***"
   ]
  },
  {
   "cell_type": "code",
   "execution_count": 3,
   "id": "5159bd27-97a3-44b0-9e7c-2b5ac64ef460",
   "metadata": {},
   "outputs": [],
   "source": [
    "auction_df = pd.read_csv(\"ipl_auction_data_2018_2025.csv\")\n",
    "auction_df['Player'] = auction_df['Player Name'].astype(str).str.strip().str.lower()\n",
    "auction_df['Price(Cr)'] = auction_df['Price'].apply(parse_price)\n",
    "auction_df = auction_df.dropna(subset=['Price(Cr)'])\n",
    "auction_df = auction_df[['Player', 'Year', 'Price(Cr)']]"
   ]
  },
  {
   "cell_type": "markdown",
   "id": "2d835801-7b71-406e-97a4-4710a920b5ea",
   "metadata": {},
   "source": [
    "#### ***Loop over the 2018-2025 Performance Stat files and append the batting and bowling data in the list.***"
   ]
  },
  {
   "cell_type": "code",
   "execution_count": 4,
   "id": "aaddf17f-0c23-45c3-87ca-009cf461848d",
   "metadata": {},
   "outputs": [],
   "source": [
    "batting_data = []\n",
    "bowling_data = []\n",
    "\n",
    "for year in range(2018, 2026):\n",
    "    bat = pd.read_csv(f\"top_run_scorers_{year}.csv\")\n",
    "    bowl = pd.read_csv(f\"most_wickets_{year}.csv\")\n",
    "\n",
    "    bat['Player'] = bat['StrikerName'].astype(str).str.strip().str.lower()\n",
    "    bowl['Player'] = bowl['BowlerName'].astype(str).str.strip().str.lower()\n",
    "\n",
    "    bat['Year'] = year\n",
    "    bowl['Year'] = year\n",
    "\n",
    "    bat_cols = [\n",
    "        'Player', 'Year', 'Matches', 'Innings', 'Extras', 'TotalRuns', 'Balls',\n",
    "        'Dotballs', 'StrikeRate', 'DBPercent', 'DBFreq', 'BdryFreq', 'BdryPercent', 'RPSS', 'ScoringBalls',\n",
    "        'Ones', 'Twos', 'Threes', 'Fours', 'Sixes', 'Outs', 'NotOuts', 'BattingAveragesss', 'FiftyPlusRuns',\n",
    "        'Centuries', 'DoubleCenturies', 'HighestScore', 'BattingAverage', 'Catches', 'Stumpings']\n",
    "\n",
    "    bowl_cols = [\n",
    "        'Player', 'Year', 'Matches', 'Innings', 'LegalBallsBowled',\n",
    "        'TotalRunsConceded', 'DotBallsBowled', 'DotBallPercent', 'ScoringBallsBowled', 'BowlingAverage',\n",
    "        'StrikeRate', 'BowlingSR', 'BoundaryPercentage', 'BoundaryFrequency', 'EconomyRate', 'OversBowled',\n",
    "        'Ones', 'Twos', 'Threes', 'Fours', 'Sixes', 'Wides', 'NoBalls', 'Byes', 'LegBye', 'Wickets',\n",
    "        'InningsRuns', 'InningsWickets', 'MatchRuns', 'MatchWickets', 'Maidens', 'MaidenWickets',\n",
    "        'FourWickets', 'FiveWickets', 'TenWickets']\n",
    "\n",
    "    bat = bat[[col for col in bat_cols if col in bat.columns]].copy()\n",
    "    bowl = bowl[[col for col in bowl_cols if col in bowl.columns]].copy()\n",
    "\n",
    "    batting_data.append(bat)\n",
    "    bowling_data.append(bowl)\n",
    "\n",
    "batting_df = pd.concat(batting_data, ignore_index=True)\n",
    "bowling_df = pd.concat(bowling_data, ignore_index=True)"
   ]
  },
  {
   "cell_type": "markdown",
   "id": "583b1413-1765-4b7f-9d32-255de8e09c45",
   "metadata": {},
   "source": [
    "#### ***Combine and Merge Performance Data of all year***"
   ]
  },
  {
   "cell_type": "code",
   "execution_count": 5,
   "id": "4e336564-65fa-4ffd-8fbe-c025c723fd84",
   "metadata": {},
   "outputs": [],
   "source": [
    "performance_df = pd.merge(batting_df, bowling_df, on=['Player', 'Year'], how='outer', suffixes=('_bat', '_bowl'))\n",
    "performance_df.replace('-', pd.NA, inplace=True)\n",
    "\n",
    "for col in performance_df.columns:\n",
    "    if col not in ['Player', 'Year']:\n",
    "        performance_df[col] = pd.to_numeric(performance_df[col], errors='coerce')\n",
    "\n",
    "performance_df.fillna(0, inplace=True)"
   ]
  },
  {
   "cell_type": "markdown",
   "id": "13e3a419-110d-47d1-8e0e-770550f892a5",
   "metadata": {},
   "source": [
    "#### ***Merge all Performance data with Auction data***"
   ]
  },
  {
   "cell_type": "code",
   "execution_count": 6,
   "id": "0976c6d7-dc57-4046-9017-aaa99e12ac00",
   "metadata": {},
   "outputs": [],
   "source": [
    "model_data = pd.merge(performance_df, auction_df, on=['Player', 'Year'], how='inner')"
   ]
  },
  {
   "cell_type": "markdown",
   "id": "717fbec0-bd00-4aee-b5ae-568fa867bd86",
   "metadata": {},
   "source": [
    "#### ***Train on 2018-2024 data and Predict 2026 salaries from 2025***"
   ]
  },
  {
   "cell_type": "code",
   "execution_count": 7,
   "id": "6fa6678e-a290-470b-9027-8a2f5702154d",
   "metadata": {},
   "outputs": [
    {
     "name": "stdout",
     "output_type": "stream",
     "text": [
      "Validation MAE: 3.083\n",
      "Validation R² Score: 0.24\n"
     ]
    }
   ],
   "source": [
    "train_data = model_data[model_data['Year'] < 2025]\n",
    "predict_data = performance_df[performance_df['Year'] == 2025].copy()\n",
    "\n",
    "X = train_data.drop(columns=['Player', 'Year', 'Price(Cr)'])\n",
    "y = train_data['Price(Cr)']\n",
    "\n",
    "X_train, X_val, y_train, y_val = train_test_split(X, y, test_size=0.2, random_state=42)\n",
    "\n",
    "model = RandomForestRegressor(n_estimators=150, random_state=42)\n",
    "model.fit(X_train, y_train)\n",
    "\n",
    "y_pred = model.predict(X_val)\n",
    "print(\"Validation MAE:\", round(mean_absolute_error(y_val, y_pred), 3))\n",
    "print(\"Validation R² Score:\", round(r2_score(y_val, y_pred), 3))"
   ]
  },
  {
   "cell_type": "markdown",
   "id": "79c20e8b-600e-49d3-8633-8f96f16640d8",
   "metadata": {},
   "source": [
    "#### ***Predict 2026 salaries***"
   ]
  },
  {
   "cell_type": "code",
   "execution_count": 8,
   "id": "4bf2d205-a9bb-4929-be8b-9e845680c491",
   "metadata": {},
   "outputs": [],
   "source": [
    "predict_data.replace('-', pd.NA, inplace=True)\n",
    "for col in predict_data.columns:\n",
    "    if col not in ['Player', 'Year']:\n",
    "        predict_data[col] = pd.to_numeric(predict_data[col], errors='coerce')\n",
    "predict_data.fillna(0, inplace=True)\n",
    "\n",
    "X_2026 = predict_data.drop(columns=['Player', 'Year'])\n",
    "predictions = model.predict(X_2026)\n",
    "\n",
    "result_2026 = predict_data[['Player']].copy()\n",
    "result_2026['Predicted_Salary_2026_Cr'] = predictions.round(2)\n",
    "result_2026 = result_2026.sort_values(by='Predicted_Salary_2026_Cr', ascending=False)"
   ]
  },
  {
   "cell_type": "markdown",
   "id": "dd8a10c4-c8b6-4165-b977-3053bd8d83ad",
   "metadata": {},
   "source": [
    "#### ***Saving Output as csv file***"
   ]
  },
  {
   "cell_type": "code",
   "execution_count": 11,
   "id": "faf22b49-0e96-488d-8839-86f4e89c5c72",
   "metadata": {},
   "outputs": [
    {
     "name": "stdout",
     "output_type": "stream",
     "text": [
      "Saved: predicted_ipl_auction_salaries_2026.csv\n"
     ]
    }
   ],
   "source": [
    "result_2026.to_csv(\"predicted_ipl_auction_salaries_2026.csv\", index=False)\n",
    "print(\"Saved: predicted_ipl_auction_salaries_2026.csv\")"
   ]
  }
 ],
 "metadata": {
  "kernelspec": {
   "display_name": "Python 3 (ipykernel)",
   "language": "python",
   "name": "python3"
  },
  "language_info": {
   "codemirror_mode": {
    "name": "ipython",
    "version": 3
   },
   "file_extension": ".py",
   "mimetype": "text/x-python",
   "name": "python",
   "nbconvert_exporter": "python",
   "pygments_lexer": "ipython3",
   "version": "3.13.3"
  }
 },
 "nbformat": 4,
 "nbformat_minor": 5
}
